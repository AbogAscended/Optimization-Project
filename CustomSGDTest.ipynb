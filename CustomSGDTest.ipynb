{
 "cells": [
  {
   "cell_type": "code",
   "id": "initial_id",
   "metadata": {
    "collapsed": true,
    "ExecuteTime": {
     "end_time": "2025-04-16T00:42:16.625854Z",
     "start_time": "2025-04-16T00:42:13.443297Z"
    }
   },
   "source": [
    "import torch\n",
    "import torch.nn as nn\n",
    "import torch.optim as optim\n",
    "import numpy as np\n",
    "import matplotlib.pyplot as plt"
   ],
   "outputs": [],
   "execution_count": 1
  },
  {
   "metadata": {
    "ExecuteTime": {
     "end_time": "2025-04-16T00:42:16.643035Z",
     "start_time": "2025-04-16T00:42:16.633522Z"
    }
   },
   "cell_type": "code",
   "source": [
    "class CustomSGD:\n",
    "    def __init__(self, params, lr=0.01, momentum=0, dampening=0, weight_decay=0):\n",
    "        \"\"\"\n",
    "        A simple implementation of Stochastic Gradient Descent (SGD) optimizer\n",
    "\n",
    "        Args:\n",
    "            params: iterable of parameters to optimize\n",
    "            lr: learning rate (default: 0.01)\n",
    "            momentum: momentum factor (default: 0)\n",
    "            dampening: dampening for momentum (default: 0)\n",
    "            weight_decay: weight decay (L2 penalty) (default: 0)\n",
    "        \"\"\"\n",
    "        self.params = list(params)\n",
    "        self.lr = lr\n",
    "\n",
    "    def zero_grad(self):\n",
    "        for p in self.params:\n",
    "            if p.grad is not None:\n",
    "                p.grad.detach_()\n",
    "                p.grad.zero_()\n",
    "\n",
    "    def step(self):\n",
    "        for p in self.params:\n",
    "            if p.grad is None:\n",
    "                continue\n",
    "            else:\n",
    "                grad = p.grad.data\n",
    "                p.data.add_(grad, alpha=-self.lr)"
   ],
   "id": "43fb661f54d055f3",
   "outputs": [],
   "execution_count": 2
  },
  {
   "metadata": {
    "ExecuteTime": {
     "end_time": "2025-04-16T00:42:17.035891Z",
     "start_time": "2025-04-16T00:42:16.881433Z"
    }
   },
   "cell_type": "code",
   "source": [
    "np.random.seed(42)\n",
    "X = np.random.rand(10000000, 1)\n",
    "y = 2 * X\n",
    "\n",
    "X_tensor = torch.FloatTensor(X)\n",
    "y_tensor = torch.FloatTensor(y)\n",
    "\n",
    "class LinearModel(nn.Module):\n",
    "    def __init__(self):\n",
    "        super(LinearModel, self).__init__()\n",
    "        self.linear = nn.Linear(1, 1)\n",
    "\n",
    "    def forward(self, x):\n",
    "        return self.linear(x)\n",
    "\n",
    "model = LinearModel()\n",
    "print(\"Initial parameters:\")\n",
    "for name, param in model.named_parameters():\n",
    "    print(f\"{name}: {param.data}\")\n",
    "\n",
    "criterion = nn.MSELoss()"
   ],
   "id": "302107891ca0dcbc",
   "outputs": [
    {
     "name": "stdout",
     "output_type": "stream",
     "text": [
      "Initial parameters:\n",
      "linear.weight: tensor([[-0.7930]])\n",
      "linear.bias: tensor([0.7206])\n"
     ]
    }
   ],
   "execution_count": 3
  },
  {
   "metadata": {
    "ExecuteTime": {
     "end_time": "2025-04-16T00:42:39.722403Z",
     "start_time": "2025-04-16T00:42:17.067491Z"
    }
   },
   "cell_type": "code",
   "source": [
    "torch_sgd = optim.SGD(model.parameters(), lr=.1)\n",
    "\n",
    "epochs = 500\n",
    "torch_losses = []\n",
    "\n",
    "for epoch in range(epochs):\n",
    "    y_pred = model(X_tensor)\n",
    "    loss = criterion(y_pred, y_tensor)\n",
    "    torch_losses.append(loss.item())\n",
    "\n",
    "    torch_sgd.zero_grad()\n",
    "    loss.backward()\n",
    "    torch_sgd.step()\n",
    "\n",
    "    if (epoch+1) % 10 == 0:\n",
    "        print(f'Epoch {epoch+1}/{epochs}, Loss: {loss.item():.4f}')\n",
    "\n",
    "print(\"\\nFinal parameters with PyTorch SGD:\")\n",
    "for name, param in model.named_parameters():\n",
    "    print(f\"{name}: {param.data}\")"
   ],
   "id": "f930d7fface863b8",
   "outputs": [
    {
     "name": "stdout",
     "output_type": "stream",
     "text": [
      "Epoch 20/500, Loss: 0.3127\n",
      "Epoch 40/500, Loss: 0.1841\n",
      "Epoch 60/500, Loss: 0.1080\n",
      "Epoch 80/500, Loss: 0.0638\n",
      "Epoch 100/500, Loss: 0.0374\n",
      "Epoch 120/500, Loss: 0.0220\n",
      "Epoch 140/500, Loss: 0.0130\n",
      "Epoch 160/500, Loss: 0.0076\n",
      "Epoch 180/500, Loss: 0.0045\n",
      "Epoch 200/500, Loss: 0.0026\n",
      "Epoch 220/500, Loss: 0.0015\n",
      "Epoch 240/500, Loss: 0.0009\n",
      "Epoch 260/500, Loss: 0.0005\n",
      "Epoch 280/500, Loss: 0.0003\n",
      "Epoch 300/500, Loss: 0.0002\n",
      "Epoch 320/500, Loss: 0.0001\n",
      "Epoch 340/500, Loss: 0.0001\n",
      "Epoch 360/500, Loss: 0.0000\n",
      "Epoch 380/500, Loss: 0.0000\n",
      "Epoch 400/500, Loss: 0.0000\n",
      "Epoch 420/500, Loss: 0.0000\n",
      "Epoch 440/500, Loss: 0.0000\n",
      "Epoch 460/500, Loss: 0.0000\n",
      "Epoch 480/500, Loss: 0.0000\n",
      "Epoch 500/500, Loss: 0.0000\n",
      "\n",
      "Final parameters with PyTorch SGD:\n",
      "linear.weight: tensor([[1.9967]])\n",
      "linear.bias: tensor([0.0017])\n"
     ]
    }
   ],
   "execution_count": 4
  },
  {
   "metadata": {
    "ExecuteTime": {
     "end_time": "2025-04-16T00:42:59.829772Z",
     "start_time": "2025-04-16T00:42:39.743588Z"
    }
   },
   "cell_type": "code",
   "source": [
    "model = LinearModel()\n",
    "\n",
    "print(\"Initial parameters:\")\n",
    "for name, param in model.named_parameters():\n",
    "    print(f\"{name}: {param.data}\")\n",
    "\n",
    "custom_sgd = CustomSGD(model.parameters(), lr=0.1)\n",
    "\n",
    "custom_losses = []\n",
    "\n",
    "for epoch in range(epochs):\n",
    "    y_pred = model(X_tensor)\n",
    "    loss = criterion(y_pred, y_tensor)\n",
    "    custom_losses.append(loss.item())\n",
    "\n",
    "    custom_sgd.zero_grad()\n",
    "    loss.backward()\n",
    "    custom_sgd.step()\n",
    "\n",
    "    if (epoch+1) % 10 == 0:\n",
    "        print(f'Epoch {epoch+1}/{epochs}, Loss: {loss.item():.4f}')\n",
    "\n",
    "print(\"\\nFinal parameters with Custom SGD:\")\n",
    "for name, param in model.named_parameters():\n",
    "    print(f\"{name}: {param.data}\")"
   ],
   "id": "158213737d967a5e",
   "outputs": [
    {
     "name": "stdout",
     "output_type": "stream",
     "text": [
      "Initial parameters:\n",
      "linear.weight: tensor([[0.7697]])\n",
      "linear.bias: tensor([0.7281])\n",
      "Epoch 20/500, Loss: 0.0811\n",
      "Epoch 40/500, Loss: 0.0478\n",
      "Epoch 60/500, Loss: 0.0280\n",
      "Epoch 80/500, Loss: 0.0166\n",
      "Epoch 100/500, Loss: 0.0097\n",
      "Epoch 120/500, Loss: 0.0057\n",
      "Epoch 140/500, Loss: 0.0034\n",
      "Epoch 160/500, Loss: 0.0020\n",
      "Epoch 180/500, Loss: 0.0012\n",
      "Epoch 200/500, Loss: 0.0007\n",
      "Epoch 220/500, Loss: 0.0004\n",
      "Epoch 240/500, Loss: 0.0002\n",
      "Epoch 260/500, Loss: 0.0001\n",
      "Epoch 280/500, Loss: 0.0001\n",
      "Epoch 300/500, Loss: 0.0000\n",
      "Epoch 320/500, Loss: 0.0000\n",
      "Epoch 340/500, Loss: 0.0000\n",
      "Epoch 360/500, Loss: 0.0000\n",
      "Epoch 380/500, Loss: 0.0000\n",
      "Epoch 400/500, Loss: 0.0000\n",
      "Epoch 420/500, Loss: 0.0000\n",
      "Epoch 440/500, Loss: 0.0000\n",
      "Epoch 460/500, Loss: 0.0000\n",
      "Epoch 480/500, Loss: 0.0000\n",
      "Epoch 500/500, Loss: 0.0000\n",
      "\n",
      "Final parameters with Custom SGD:\n",
      "linear.weight: tensor([[1.9983]])\n",
      "linear.bias: tensor([0.0009])\n"
     ]
    }
   ],
   "execution_count": 5
  },
  {
   "metadata": {
    "ExecuteTime": {
     "end_time": "2025-04-16T00:43:00.033174Z",
     "start_time": "2025-04-16T00:42:59.849066Z"
    }
   },
   "cell_type": "code",
   "source": [
    "plt.figure(figsize=(10, 6))\n",
    "plt.plot(torch_losses, label='PyTorch SGD')\n",
    "plt.plot(custom_losses, label='Custom SGD')\n",
    "plt.xlabel('Iterations')\n",
    "plt.ylabel('Loss')\n",
    "plt.title('Loss curves: PyTorch SGD vs Custom SGD')\n",
    "plt.legend()\n",
    "plt.grid(True)\n",
    "plt.show()"
   ],
   "id": "ceece1e10bd7f528",
   "outputs": [
    {
     "data": {
      "text/plain": [
       "<Figure size 1000x600 with 1 Axes>"
      ],
      "image/png": "[encoded data removed]"
     },
     "metadata": {},
     "output_type": "display_data"
    }
   ],
   "execution_count": 6
  }
 ],
 "metadata": {
  "kernelspec": {
   "display_name": "Python 3",
   "language": "python",
   "name": "python3"
  },
  "language_info": {
   "codemirror_mode": {
    "name": "ipython",
    "version": 2
   },
   "file_extension": ".py",
   "mimetype": "text/x-python",
   "name": "python",
   "nbconvert_exporter": "python",
   "pygments_lexer": "ipython2",
   "version": "2.7.6"
  }
 },
 "nbformat": 4,
 "nbformat_minor": 5
}
